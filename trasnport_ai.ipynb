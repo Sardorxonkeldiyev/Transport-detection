{
 "cells": [
  {
   "cell_type": "code",
   "execution_count": 9,
   "metadata": {},
   "outputs": [],
   "source": [
    "import cv2\n",
    "\n",
    "# Video faylni ochish\n",
    "# cap = cv2.VideoCapture('video.avi')\n",
    "cap = cv2.VideoCapture('video.avi')  # 0 - bu default kamera\n",
    "\n",
    "# Haar kaskadni yuklash\n",
    "carcascade = cv2.CascadeClassifier('cars.xml')\n",
    "\n",
    "while True:\n",
    "    # Video oqimidan kadrni olish\n",
    "    ret, frame = cap.read()\n",
    "    if not ret:\n",
    "        break  # Agar video tugasa, loopdan chiqish\n",
    "\n",
    "    # Rangli kadrni kulrangga o'tkazish\n",
    "    gray = cv2.cvtColor(frame, cv2.COLOR_BGR2GRAY)\n",
    "\n",
    "    # Avtomobillarni aniqlash\n",
    "    cars = carcascade.detectMultiScale(gray, 1.1, 1)\n",
    "\n",
    "    # Aniqlangan avtomobillarni tasvirga chizish\n",
    "    for (x, y, w, h) in cars:\n",
    "        cv2.rectangle(frame, (x, y), (x + w, y + h), (0, 0, 255), 2)\n",
    "\n",
    "    # Natijani ko'rsatish\n",
    "    cv2.imshow('Output', frame)\n",
    "\n",
    "    # 'q' tugmasini bosganda chiqish\n",
    "    if cv2.waitKey(1) & 0xFF == ord('q'):\n",
    "        break\n",
    "\n",
    "# Video oqimini to'xtatish va barcha oynalarni yopish\n",
    "cap.release()\n",
    "cv2.destroyAllWindows()\n"
   ]
  },
  {
   "cell_type": "code",
   "execution_count": null,
   "metadata": {},
   "outputs": [],
   "source": []
  }
 ],
 "metadata": {
  "kernelspec": {
   "display_name": "base",
   "language": "python",
   "name": "python3"
  },
  "language_info": {
   "codemirror_mode": {
    "name": "ipython",
    "version": 3
   },
   "file_extension": ".py",
   "mimetype": "text/x-python",
   "name": "python",
   "nbconvert_exporter": "python",
   "pygments_lexer": "ipython3",
   "version": "3.11.3"
  },
  "orig_nbformat": 4
 },
 "nbformat": 4,
 "nbformat_minor": 2
}
